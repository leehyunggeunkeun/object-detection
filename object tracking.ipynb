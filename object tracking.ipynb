#유튜버 빵형의 개발도상국님의 코드를 보고 실습

{
 "cells": [
  {
   "cell_type": "code",
   "execution_count": 1,
   "metadata": {},
   "outputs": [],
   "source": [
    "import cv2\n",
    "import numpy as np\n",
    "\n",
    "\n",
    "import os \n",
    "os.chdir('Desktop')"
   ]
  },
  {
   "cell_type": "code",
   "execution_count": 2,
   "metadata": {},
   "outputs": [
    {
     "ename": "error",
     "evalue": "OpenCV(4.2.0) C:\\projects\\opencv-python\\opencv\\modules\\highgui\\src\\window.cpp:376: error: (-215:Assertion failed) size.width>0 && size.height>0 in function 'cv::imshow'\n",
     "output_type": "error",
     "traceback": [
      "\u001b[1;31m---------------------------------------------------------------------------\u001b[0m",
      "\u001b[1;31merror\u001b[0m                                     Traceback (most recent call last)",
      "\u001b[1;32m<ipython-input-2-6a4b09c5b612>\u001b[0m in \u001b[0;36m<module>\u001b[1;34m\u001b[0m\n\u001b[0;32m     59\u001b[0m \u001b[1;33m\u001b[0m\u001b[0m\n\u001b[0;32m     60\u001b[0m \u001b[1;33m\u001b[0m\u001b[0m\n\u001b[1;32m---> 61\u001b[1;33m     \u001b[0mcv2\u001b[0m\u001b[1;33m.\u001b[0m\u001b[0mimshow\u001b[0m\u001b[1;33m(\u001b[0m\u001b[1;34m'result_img'\u001b[0m\u001b[1;33m,\u001b[0m\u001b[0mresult_img\u001b[0m\u001b[1;33m)\u001b[0m\u001b[1;33m\u001b[0m\u001b[1;33m\u001b[0m\u001b[0m\n\u001b[0m\u001b[0;32m     62\u001b[0m     \u001b[0mcv2\u001b[0m\u001b[1;33m.\u001b[0m\u001b[0mimshow\u001b[0m\u001b[1;33m(\u001b[0m\u001b[1;34m'img'\u001b[0m\u001b[1;33m,\u001b[0m\u001b[0mimg\u001b[0m\u001b[1;33m)\u001b[0m\u001b[1;33m\u001b[0m\u001b[1;33m\u001b[0m\u001b[0m\n\u001b[0;32m     63\u001b[0m     \u001b[1;32mif\u001b[0m \u001b[0mcv2\u001b[0m\u001b[1;33m.\u001b[0m\u001b[0mwaitKey\u001b[0m\u001b[1;33m(\u001b[0m\u001b[1;36m1\u001b[0m\u001b[1;33m)\u001b[0m \u001b[1;33m==\u001b[0m\u001b[0mord\u001b[0m\u001b[1;33m(\u001b[0m\u001b[1;34m'q'\u001b[0m\u001b[1;33m)\u001b[0m\u001b[1;33m:\u001b[0m\u001b[1;33m\u001b[0m\u001b[1;33m\u001b[0m\u001b[0m\n",
      "\u001b[1;31merror\u001b[0m: OpenCV(4.2.0) C:\\projects\\opencv-python\\opencv\\modules\\highgui\\src\\window.cpp:376: error: (-215:Assertion failed) size.width>0 && size.height>0 in function 'cv::imshow'\n"
     ]
    }
   ],
   "source": [
    "#동영상 재생\n",
    "\n",
    "video_path='videoplayback.mp4'\n",
    "cap=cv2.VideoCapture(video_path)\n",
    "\n",
    "output_size=(333,667)\n",
    "fourcc = cv2.VideoWriter_fourcc('m', 'p', '4', 'v')\n",
    "out = cv2.VideoWriter('%s_output.mp4' % (video_path.split('.')[0]), fourcc, cap.get\n",
    "                      (cv2.CAP_PROP_FPS), output_size)\n",
    "\n",
    "\n",
    "if not cap.isOpened():\n",
    "    exit()\n",
    "    \n",
    "\n",
    "    \n",
    "    \n",
    "tracker=cv2.TrackerCSRT_create()\n",
    "    \n",
    "ret,img=cap.read()\n",
    "cv2.namedWindow('Select Window')\n",
    "cv2.imshow('Select Window',img)\n",
    "\n",
    "#setting roi\n",
    "rect=cv2.selectROI('Select Window',img,fromCenter=False,showCrosshair=True)\n",
    "cv2.destroyWindow('Select Window')\n",
    "\n",
    "#initialize tracker\n",
    "tracker.init(img,rect)\n",
    "\n",
    "    \n",
    "while True:\n",
    "    ret,img=cap.read()\n",
    "    \n",
    "    if not ret:\n",
    "        exit()\n",
    "        \n",
    "    success,box=tracker.update(img)\n",
    "    \n",
    "    \n",
    "    left,top,w,h=[int(v) for v in box]\n",
    "    \n",
    "    center_x=left+w/2\n",
    "    center_y=top+h/2\n",
    "    \n",
    "    \n",
    "    result_top=int(center_y-output_size[1]/2)\n",
    "    result_bottom=int(center_y+output_size[1]/2)\n",
    "    result_left=int(center_x-output_size[0]/2)\n",
    "    result_right=int(center_x+output_size[0]/2)\n",
    "    \n",
    "    result_img=img[result_top:result_bottom,result_left:result_right].copy()\n",
    "    out.write(result_img)\n",
    "\n",
    "\n",
    "    \n",
    "    cv2.rectangle(img,pt1=(left,top),pt2=(left+w,top+h),color=(255,255,255)\n",
    "                  ,thickness=3)\n",
    "    \n",
    "    \n",
    "    cv2.imshow('result_img',result_img)    \n",
    "    cv2.imshow('img',img)\n",
    "    if cv2.waitKey(1) ==ord('q'):\n",
    "        break\n",
    "    "
   ]
  },
  {
   "cell_type": "code",
   "execution_count": null,
   "metadata": {},
   "outputs": [],
   "source": []
  }
 ],
 "metadata": {
  "kernelspec": {
   "display_name": "Python 3",
   "language": "python",
   "name": "python3"
  },
  "language_info": {
   "codemirror_mode": {
    "name": "ipython",
    "version": 3
   },
   "file_extension": ".py",
   "mimetype": "text/x-python",
   "name": "python",
   "nbconvert_exporter": "python",
   "pygments_lexer": "ipython3",
   "version": "3.7.4"
  }
 },
 "nbformat": 4,
 "nbformat_minor": 2
}
